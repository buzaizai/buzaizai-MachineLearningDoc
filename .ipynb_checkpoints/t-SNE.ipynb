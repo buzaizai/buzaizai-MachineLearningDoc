{
 "cells": [
  {
   "metadata": {
    "ExecuteTime": {
     "end_time": "2024-04-16T17:58:14.465249Z",
     "start_time": "2024-04-16T17:58:10.639568Z"
    }
   },
   "cell_type": "code",
   "source": [
    "from sklearn.manifold import TSNE\n",
    "from sklearn.datasets import load_digits\n",
    "data = load_digits()\n",
    "n_components = 2 # 设置降维后的维度为2\n",
    "model = TSNE(n_components=n_components)\n",
    "print(model.fit_transform(data.data)) # 变换后的数据"
   ],
   "id": "853ba57388aff291",
   "outputs": [
    {
     "name": "stdout",
     "output_type": "stream",
     "text": [
      "[[ -3.2220726  55.316223 ]\n",
      " [ 10.613166  -11.916476 ]\n",
      " [-13.650333  -18.844185 ]\n",
      " ...\n",
      " [ -5.8502903 -10.896244 ]\n",
      " [-21.255362   15.147105 ]\n",
      " [-14.093691   -7.1273246]]\n"
     ]
    }
   ],
   "execution_count": 1
  },
  {
   "metadata": {},
   "cell_type": "code",
   "outputs": [],
   "execution_count": null,
   "source": "",
   "id": "6808b2bb124630df"
  }
 ],
 "metadata": {
  "kernelspec": {
   "display_name": "Python 3",
   "language": "python",
   "name": "python3"
  },
  "language_info": {
   "codemirror_mode": {
    "name": "ipython",
    "version": 2
   },
   "file_extension": ".py",
   "mimetype": "text/x-python",
   "name": "python",
   "nbconvert_exporter": "python",
   "pygments_lexer": "ipython2",
   "version": "2.7.6"
  }
 },
 "nbformat": 4,
 "nbformat_minor": 5
}
