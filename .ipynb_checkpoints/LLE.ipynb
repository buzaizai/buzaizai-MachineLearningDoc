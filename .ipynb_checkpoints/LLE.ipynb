{
 "cells": [
  {
   "metadata": {
    "ExecuteTime": {
     "end_time": "2024-04-16T17:56:53.905472Z",
     "start_time": "2024-04-16T17:56:53.274474Z"
    }
   },
   "cell_type": "code",
   "source": [
    "from sklearn.datasets import _samples_generator\n",
    "from sklearn.manifold import LocallyLinearEmbedding\n",
    "\n",
    "data, color = _samples_generator.make_swiss_roll(n_samples=1500)\n",
    "n_neighbors = 12 # 近邻点的数量\n",
    "n_components = 2 # 降维后的维度\n",
    "model = LocallyLinearEmbedding(n_neighbors=n_neighbors,\n",
    "n_components=n_components)\n",
    "model.fit(data)\n",
    "print(model.transform(data)) # 变换后的数据"
   ],
   "id": "bb7ab9dd9acf64fd",
   "outputs": [
    {
     "name": "stdout",
     "output_type": "stream",
     "text": [
      "[[ 0.03298059  0.00118534]\n",
      " [ 0.03091587 -0.03002721]\n",
      " [-0.02757087  0.00957592]\n",
      " ...\n",
      " [ 0.01992881  0.03762247]\n",
      " [-0.03971224  0.01398629]\n",
      " [ 0.0269413   0.03222455]]\n"
     ]
    }
   ],
   "execution_count": 1
  },
  {
   "metadata": {},
   "cell_type": "code",
   "outputs": [],
   "execution_count": null,
   "source": "",
   "id": "1dc6501f146d2650"
  }
 ],
 "metadata": {
  "kernelspec": {
   "display_name": "Python 3",
   "language": "python",
   "name": "python3"
  },
  "language_info": {
   "codemirror_mode": {
    "name": "ipython",
    "version": 2
   },
   "file_extension": ".py",
   "mimetype": "text/x-python",
   "name": "python",
   "nbconvert_exporter": "python",
   "pygments_lexer": "ipython2",
   "version": "2.7.6"
  }
 },
 "nbformat": 4,
 "nbformat_minor": 5
}
